{
 "cells": [
  {
   "cell_type": "code",
   "execution_count": 267,
   "metadata": {},
   "outputs": [],
   "source": [
    "import csv\n",
    "import pandas as pd"
   ]
  },
  {
   "cell_type": "code",
   "execution_count": 268,
   "metadata": {},
   "outputs": [
    {
     "data": {
      "text/html": [
       "<div>\n",
       "<style scoped>\n",
       "    .dataframe tbody tr th:only-of-type {\n",
       "        vertical-align: middle;\n",
       "    }\n",
       "\n",
       "    .dataframe tbody tr th {\n",
       "        vertical-align: top;\n",
       "    }\n",
       "\n",
       "    .dataframe thead th {\n",
       "        text-align: right;\n",
       "    }\n",
       "</style>\n",
       "<table border=\"1\" class=\"dataframe\">\n",
       "  <thead>\n",
       "    <tr style=\"text-align: right;\">\n",
       "      <th></th>\n",
       "      <th>slug</th>\n",
       "      <th>all_text</th>\n",
       "      <th>rating</th>\n",
       "      <th>roaster</th>\n",
       "      <th>name</th>\n",
       "      <th>location</th>\n",
       "      <th>origin</th>\n",
       "      <th>roast</th>\n",
       "      <th>est_price</th>\n",
       "      <th>review_date</th>\n",
       "      <th>...</th>\n",
       "      <th>aroma</th>\n",
       "      <th>acid</th>\n",
       "      <th>body</th>\n",
       "      <th>flavor</th>\n",
       "      <th>aftertaste</th>\n",
       "      <th>with_milk</th>\n",
       "      <th>desc_1</th>\n",
       "      <th>desc_2</th>\n",
       "      <th>desc_3</th>\n",
       "      <th>est_price_split</th>\n",
       "    </tr>\n",
       "  </thead>\n",
       "  <tbody>\n",
       "    <tr>\n",
       "      <th>0</th>\n",
       "      <td>https://www.coffeereview.com/review/sweety-esp...</td>\n",
       "      <td>\\r\\n\\r\\n\\r\\n95\\r\\n\\r\\n\\r\\nA.R.C.\\r\\n“Sweety” ...</td>\n",
       "      <td>95</td>\n",
       "      <td>A.R.C.</td>\n",
       "      <td>“Sweety” Espresso Blend</td>\n",
       "      <td>Hong Kong, China</td>\n",
       "      <td>Panama; Ethiopia</td>\n",
       "      <td>Medium-Light</td>\n",
       "      <td>$48.71/340 grams</td>\n",
       "      <td>November 2017</td>\n",
       "      <td>...</td>\n",
       "      <td>9.0</td>\n",
       "      <td>8.0</td>\n",
       "      <td>9.0</td>\n",
       "      <td>9.0</td>\n",
       "      <td>9.0</td>\n",
       "      <td>9.0</td>\n",
       "      <td>Evaluated as espresso. Sweet-toned, deeply ric...</td>\n",
       "      <td>An espresso blend comprised of coffees from Pa...</td>\n",
       "      <td>A radiant espresso blend that shines equally i...</td>\n",
       "      <td>['HKD', '$250/227', 'grams']</td>\n",
       "    </tr>\n",
       "    <tr>\n",
       "      <th>1</th>\n",
       "      <td>https://www.coffeereview.com/review/flora-blen...</td>\n",
       "      <td>\\r\\n\\r\\n\\r\\n94\\r\\n\\r\\n\\r\\nA.R.C.\\r\\nFlora Ble...</td>\n",
       "      <td>94</td>\n",
       "      <td>A.R.C.</td>\n",
       "      <td>Flora Blend Espresso</td>\n",
       "      <td>Hong Kong, China</td>\n",
       "      <td>Africa; Asia Pacific</td>\n",
       "      <td>Medium-Light</td>\n",
       "      <td>$30.78/340 grams</td>\n",
       "      <td>November 2017</td>\n",
       "      <td>...</td>\n",
       "      <td>9.0</td>\n",
       "      <td>8.0</td>\n",
       "      <td>9.0</td>\n",
       "      <td>9.0</td>\n",
       "      <td>8.0</td>\n",
       "      <td>9.0</td>\n",
       "      <td>Evaluated as espresso. Sweetly tart, floral-to...</td>\n",
       "      <td>An espresso blend comprised of coffees from Af...</td>\n",
       "      <td>A floral-driven straight shot, amplified with ...</td>\n",
       "      <td>['HKD', '$158/227', 'grams']</td>\n",
       "    </tr>\n",
       "    <tr>\n",
       "      <th>2</th>\n",
       "      <td>https://www.coffeereview.com/review/ethiopia-s...</td>\n",
       "      <td>\\r\\n\\r\\n\\r\\n92\\r\\n\\r\\n\\r\\nRevel Coffee\\r\\nEth...</td>\n",
       "      <td>92</td>\n",
       "      <td>Revel Coffee</td>\n",
       "      <td>Ethiopia Shakiso Mormora</td>\n",
       "      <td>Billings, Montana</td>\n",
       "      <td>Guji Zone, southern Ethiopia</td>\n",
       "      <td>Medium-Light</td>\n",
       "      <td>$16.00/340 grams</td>\n",
       "      <td>November 2017</td>\n",
       "      <td>...</td>\n",
       "      <td>9.0</td>\n",
       "      <td>8.0</td>\n",
       "      <td>8.0</td>\n",
       "      <td>9.0</td>\n",
       "      <td>8.0</td>\n",
       "      <td>9.0</td>\n",
       "      <td>Crisply sweet, cocoa-toned. Lemon blossom, roa...</td>\n",
       "      <td>This coffee tied for the third-highest rating ...</td>\n",
       "      <td>A gently spice-toned, floral- driven wet-proce...</td>\n",
       "      <td>['$16.00/12', 'ounces']</td>\n",
       "    </tr>\n",
       "    <tr>\n",
       "      <th>3</th>\n",
       "      <td>https://www.coffeereview.com/review/ethiopia-s...</td>\n",
       "      <td>\\r\\n\\r\\n\\r\\n92\\r\\n\\r\\n\\r\\nRoast House\\r\\nEthi...</td>\n",
       "      <td>92</td>\n",
       "      <td>Roast House</td>\n",
       "      <td>Ethiopia Suke Quto</td>\n",
       "      <td>Spokane, Washington</td>\n",
       "      <td>Guji Zone, Oromia Region, south-central Ethiopia</td>\n",
       "      <td>Medium-Light</td>\n",
       "      <td>$19.00/340 grams</td>\n",
       "      <td>November 2017</td>\n",
       "      <td>...</td>\n",
       "      <td>8.0</td>\n",
       "      <td>8.0</td>\n",
       "      <td>9.0</td>\n",
       "      <td>9.0</td>\n",
       "      <td>8.0</td>\n",
       "      <td>9.0</td>\n",
       "      <td>Delicate, sweetly spice-toned. Pink peppercorn...</td>\n",
       "      <td>This coffee tied for the third-highest rating ...</td>\n",
       "      <td>Lavender-like flowers and hints of zesty pink ...</td>\n",
       "      <td>['$19.00/16', 'ounces']</td>\n",
       "    </tr>\n",
       "    <tr>\n",
       "      <th>4</th>\n",
       "      <td>https://www.coffeereview.com/review/ethiopia-g...</td>\n",
       "      <td>\\r\\n\\r\\n\\r\\n94\\r\\n\\r\\n\\r\\nBig Creek Coffee Ro...</td>\n",
       "      <td>94</td>\n",
       "      <td>Big Creek Coffee Roasters</td>\n",
       "      <td>Ethiopia Gedeb Halo Beriti</td>\n",
       "      <td>Hamilton, Montana</td>\n",
       "      <td>Gedeb District, Gedeo Zone, southern Ethiopia</td>\n",
       "      <td>Medium</td>\n",
       "      <td>$16.50/340 grams</td>\n",
       "      <td>November 2017</td>\n",
       "      <td>...</td>\n",
       "      <td>9.0</td>\n",
       "      <td>9.0</td>\n",
       "      <td>9.0</td>\n",
       "      <td>9.0</td>\n",
       "      <td>8.0</td>\n",
       "      <td>9.0</td>\n",
       "      <td>Deeply sweet, subtly pungent. Honey, pear, tan...</td>\n",
       "      <td>Southern Ethiopia coffees like this one are pr...</td>\n",
       "      <td>A deeply and generously lush cup saved from se...</td>\n",
       "      <td>['$16.50/12', 'ounces']</td>\n",
       "    </tr>\n",
       "    <tr>\n",
       "      <th>...</th>\n",
       "      <td>...</td>\n",
       "      <td>...</td>\n",
       "      <td>...</td>\n",
       "      <td>...</td>\n",
       "      <td>...</td>\n",
       "      <td>...</td>\n",
       "      <td>...</td>\n",
       "      <td>...</td>\n",
       "      <td>...</td>\n",
       "      <td>...</td>\n",
       "      <td>...</td>\n",
       "      <td>...</td>\n",
       "      <td>...</td>\n",
       "      <td>...</td>\n",
       "      <td>...</td>\n",
       "      <td>...</td>\n",
       "      <td>...</td>\n",
       "      <td>...</td>\n",
       "      <td>...</td>\n",
       "      <td>...</td>\n",
       "      <td>...</td>\n",
       "    </tr>\n",
       "    <tr>\n",
       "      <th>2272</th>\n",
       "      <td>https://www.coffeereview.com/review/finca-patz...</td>\n",
       "      <td>\\r\\n\\r\\n\\r\\n92\\r\\n\\r\\n\\r\\nEl Gran Cafe\\r\\nFin...</td>\n",
       "      <td>92</td>\n",
       "      <td>El Gran Cafe</td>\n",
       "      <td>Finca Patzibir</td>\n",
       "      <td>Antigua, Guatemala</td>\n",
       "      <td>Lake Atitlán growing region, Guatemala</td>\n",
       "      <td>Medium-Light</td>\n",
       "      <td>$16.00/340 grams</td>\n",
       "      <td>November 2022</td>\n",
       "      <td>...</td>\n",
       "      <td>8.0</td>\n",
       "      <td>8.0</td>\n",
       "      <td>9.0</td>\n",
       "      <td>9.0</td>\n",
       "      <td>8.0</td>\n",
       "      <td>9.0</td>\n",
       "      <td>Crisply sweet, nut-toned. Almond brittle, pie ...</td>\n",
       "      <td>Produced by Andres Fahsen of Finca Patzibar en...</td>\n",
       "      <td>A quietly confident, sweetly nut-toned Guatema...</td>\n",
       "      <td>['$16.00/12', 'ounces']</td>\n",
       "    </tr>\n",
       "    <tr>\n",
       "      <th>2273</th>\n",
       "      <td>https://www.coffeereview.com/review/proyecto-a...</td>\n",
       "      <td>\\r\\n\\r\\n\\r\\n93\\r\\n\\r\\n\\r\\nEl Gran Cafe\\r\\nPro...</td>\n",
       "      <td>93</td>\n",
       "      <td>El Gran Cafe</td>\n",
       "      <td>Proyecto Aurora</td>\n",
       "      <td>Antigua, Guatemala</td>\n",
       "      <td>Antigua growing region, Guatemala</td>\n",
       "      <td>Medium-Light</td>\n",
       "      <td>$10.00/340 grams</td>\n",
       "      <td>November 2022</td>\n",
       "      <td>...</td>\n",
       "      <td>9.0</td>\n",
       "      <td>9.0</td>\n",
       "      <td>8.0</td>\n",
       "      <td>9.0</td>\n",
       "      <td>8.0</td>\n",
       "      <td>9.0</td>\n",
       "      <td>Chocolaty, floral-framed. Cocoa nib, honeysuck...</td>\n",
       "      <td>Produced at Beneficio La Esperanza from trees ...</td>\n",
       "      <td>A deeply floral, richly chocolaty Guatemala cu...</td>\n",
       "      <td>['$10.00/12', 'ounces']</td>\n",
       "    </tr>\n",
       "    <tr>\n",
       "      <th>2274</th>\n",
       "      <td>https://www.coffeereview.com/review/finca-el-p...</td>\n",
       "      <td>\\r\\n\\r\\n\\r\\n93\\r\\n\\r\\n\\r\\nEl Gran Cafe\\r\\nFin...</td>\n",
       "      <td>93</td>\n",
       "      <td>El Gran Cafe</td>\n",
       "      <td>Finca El Potrero</td>\n",
       "      <td>Antigua, Guatemala</td>\n",
       "      <td>Antigua growing region, Guatemala</td>\n",
       "      <td>Medium-Light</td>\n",
       "      <td>$10.00/340 grams</td>\n",
       "      <td>November 2022</td>\n",
       "      <td>...</td>\n",
       "      <td>9.0</td>\n",
       "      <td>9.0</td>\n",
       "      <td>8.0</td>\n",
       "      <td>9.0</td>\n",
       "      <td>8.0</td>\n",
       "      <td>9.0</td>\n",
       "      <td>High-toned, enticingly sweet. Black cherry, na...</td>\n",
       "      <td>Produced by Josué Morales of Finca El Potrero...</td>\n",
       "      <td>A bright, balanced, juicy Guatemala cup driven...</td>\n",
       "      <td>['$10.00/12', 'ounces']</td>\n",
       "    </tr>\n",
       "    <tr>\n",
       "      <th>2275</th>\n",
       "      <td>https://www.coffeereview.com/review/chacaya-sa...</td>\n",
       "      <td>\\r\\n\\r\\n\\r\\n93\\r\\n\\r\\n\\r\\nEl Gran Cafe\\r\\nCha...</td>\n",
       "      <td>93</td>\n",
       "      <td>El Gran Cafe</td>\n",
       "      <td>Chacayá Santiago Atitlán</td>\n",
       "      <td>Antigua, Guatemala</td>\n",
       "      <td>Lake Atitlán growing region, Guatemala</td>\n",
       "      <td>Medium-Light</td>\n",
       "      <td>$16.00/340 grams</td>\n",
       "      <td>November 2022</td>\n",
       "      <td>...</td>\n",
       "      <td>9.0</td>\n",
       "      <td>8.0</td>\n",
       "      <td>8.0</td>\n",
       "      <td>9.0</td>\n",
       "      <td>8.0</td>\n",
       "      <td>9.0</td>\n",
       "      <td>Vibrantly sweet, subtly nuanced. Apricot, dar...</td>\n",
       "      <td>Produced by smallholding farmers of Asociación...</td>\n",
       "      <td>Balanced, bright, invigoratingly crisp, with t...</td>\n",
       "      <td>['$16.00/12', 'ounces']</td>\n",
       "    </tr>\n",
       "    <tr>\n",
       "      <th>2276</th>\n",
       "      <td>https://www.coffeereview.com/review/espresso-n...</td>\n",
       "      <td>\\r\\n\\r\\n\\r\\n94\\r\\n\\r\\n\\r\\nEl Gran Cafe\\r\\nEsp...</td>\n",
       "      <td>94</td>\n",
       "      <td>El Gran Cafe</td>\n",
       "      <td>Espresso No. 3</td>\n",
       "      <td>Antigua, Guatemala</td>\n",
       "      <td>Antigua growing region, Guatemala</td>\n",
       "      <td>Medium-Light</td>\n",
       "      <td>$20.00/340 grams</td>\n",
       "      <td>November 2022</td>\n",
       "      <td>...</td>\n",
       "      <td>9.0</td>\n",
       "      <td>8.0</td>\n",
       "      <td>9.0</td>\n",
       "      <td>9.0</td>\n",
       "      <td>8.0</td>\n",
       "      <td>9.0</td>\n",
       "      <td>Evaluated as espresso. Multi-layered, complex....</td>\n",
       "      <td>Produced by Josué Morales at Finca Villa La Es...</td>\n",
       "      <td>This single-farm Guatemala espresso displays t...</td>\n",
       "      <td>['$20.00/12', 'ounces']</td>\n",
       "    </tr>\n",
       "  </tbody>\n",
       "</table>\n",
       "<p>2277 rows × 21 columns</p>\n",
       "</div>"
      ],
      "text/plain": [
       "                                                   slug  \\\n",
       "0     https://www.coffeereview.com/review/sweety-esp...   \n",
       "1     https://www.coffeereview.com/review/flora-blen...   \n",
       "2     https://www.coffeereview.com/review/ethiopia-s...   \n",
       "3     https://www.coffeereview.com/review/ethiopia-s...   \n",
       "4     https://www.coffeereview.com/review/ethiopia-g...   \n",
       "...                                                 ...   \n",
       "2272  https://www.coffeereview.com/review/finca-patz...   \n",
       "2273  https://www.coffeereview.com/review/proyecto-a...   \n",
       "2274  https://www.coffeereview.com/review/finca-el-p...   \n",
       "2275  https://www.coffeereview.com/review/chacaya-sa...   \n",
       "2276  https://www.coffeereview.com/review/espresso-n...   \n",
       "\n",
       "                                               all_text  rating  \\\n",
       "0      \\r\\n\\r\\n\\r\\n95\\r\\n\\r\\n\\r\\nA.R.C.\\r\\n“Sweety” ...      95   \n",
       "1      \\r\\n\\r\\n\\r\\n94\\r\\n\\r\\n\\r\\nA.R.C.\\r\\nFlora Ble...      94   \n",
       "2      \\r\\n\\r\\n\\r\\n92\\r\\n\\r\\n\\r\\nRevel Coffee\\r\\nEth...      92   \n",
       "3      \\r\\n\\r\\n\\r\\n92\\r\\n\\r\\n\\r\\nRoast House\\r\\nEthi...      92   \n",
       "4      \\r\\n\\r\\n\\r\\n94\\r\\n\\r\\n\\r\\nBig Creek Coffee Ro...      94   \n",
       "...                                                 ...     ...   \n",
       "2272   \\r\\n\\r\\n\\r\\n92\\r\\n\\r\\n\\r\\nEl Gran Cafe\\r\\nFin...      92   \n",
       "2273   \\r\\n\\r\\n\\r\\n93\\r\\n\\r\\n\\r\\nEl Gran Cafe\\r\\nPro...      93   \n",
       "2274   \\r\\n\\r\\n\\r\\n93\\r\\n\\r\\n\\r\\nEl Gran Cafe\\r\\nFin...      93   \n",
       "2275   \\r\\n\\r\\n\\r\\n93\\r\\n\\r\\n\\r\\nEl Gran Cafe\\r\\nCha...      93   \n",
       "2276   \\r\\n\\r\\n\\r\\n94\\r\\n\\r\\n\\r\\nEl Gran Cafe\\r\\nEsp...      94   \n",
       "\n",
       "                        roaster                        name  \\\n",
       "0                        A.R.C.     “Sweety” Espresso Blend   \n",
       "1                        A.R.C.        Flora Blend Espresso   \n",
       "2                  Revel Coffee    Ethiopia Shakiso Mormora   \n",
       "3                   Roast House          Ethiopia Suke Quto   \n",
       "4     Big Creek Coffee Roasters  Ethiopia Gedeb Halo Beriti   \n",
       "...                         ...                         ...   \n",
       "2272               El Gran Cafe              Finca Patzibir   \n",
       "2273               El Gran Cafe             Proyecto Aurora   \n",
       "2274               El Gran Cafe            Finca El Potrero   \n",
       "2275               El Gran Cafe    Chacayá Santiago Atitlán   \n",
       "2276               El Gran Cafe              Espresso No. 3   \n",
       "\n",
       "                 location                                            origin  \\\n",
       "0        Hong Kong, China                                  Panama; Ethiopia   \n",
       "1        Hong Kong, China                              Africa; Asia Pacific   \n",
       "2       Billings, Montana                      Guji Zone, southern Ethiopia   \n",
       "3     Spokane, Washington  Guji Zone, Oromia Region, south-central Ethiopia   \n",
       "4       Hamilton, Montana     Gedeb District, Gedeo Zone, southern Ethiopia   \n",
       "...                   ...                                               ...   \n",
       "2272   Antigua, Guatemala            Lake Atitlán growing region, Guatemala   \n",
       "2273   Antigua, Guatemala                 Antigua growing region, Guatemala   \n",
       "2274   Antigua, Guatemala                 Antigua growing region, Guatemala   \n",
       "2275   Antigua, Guatemala            Lake Atitlán growing region, Guatemala   \n",
       "2276   Antigua, Guatemala                 Antigua growing region, Guatemala   \n",
       "\n",
       "             roast         est_price    review_date  ... aroma  acid  body  \\\n",
       "0     Medium-Light  $48.71/340 grams  November 2017  ...   9.0   8.0   9.0   \n",
       "1     Medium-Light  $30.78/340 grams  November 2017  ...   9.0   8.0   9.0   \n",
       "2     Medium-Light  $16.00/340 grams  November 2017  ...   9.0   8.0   8.0   \n",
       "3     Medium-Light  $19.00/340 grams  November 2017  ...   8.0   8.0   9.0   \n",
       "4           Medium  $16.50/340 grams  November 2017  ...   9.0   9.0   9.0   \n",
       "...            ...               ...            ...  ...   ...   ...   ...   \n",
       "2272  Medium-Light  $16.00/340 grams  November 2022  ...   8.0   8.0   9.0   \n",
       "2273  Medium-Light  $10.00/340 grams  November 2022  ...   9.0   9.0   8.0   \n",
       "2274  Medium-Light  $10.00/340 grams  November 2022  ...   9.0   9.0   8.0   \n",
       "2275  Medium-Light  $16.00/340 grams  November 2022  ...   9.0   8.0   8.0   \n",
       "2276  Medium-Light  $20.00/340 grams  November 2022  ...   9.0   8.0   9.0   \n",
       "\n",
       "      flavor  aftertaste  with_milk  \\\n",
       "0        9.0         9.0        9.0   \n",
       "1        9.0         8.0        9.0   \n",
       "2        9.0         8.0        9.0   \n",
       "3        9.0         8.0        9.0   \n",
       "4        9.0         8.0        9.0   \n",
       "...      ...         ...        ...   \n",
       "2272     9.0         8.0        9.0   \n",
       "2273     9.0         8.0        9.0   \n",
       "2274     9.0         8.0        9.0   \n",
       "2275     9.0         8.0        9.0   \n",
       "2276     9.0         8.0        9.0   \n",
       "\n",
       "                                                 desc_1  \\\n",
       "0     Evaluated as espresso. Sweet-toned, deeply ric...   \n",
       "1     Evaluated as espresso. Sweetly tart, floral-to...   \n",
       "2     Crisply sweet, cocoa-toned. Lemon blossom, roa...   \n",
       "3     Delicate, sweetly spice-toned. Pink peppercorn...   \n",
       "4     Deeply sweet, subtly pungent. Honey, pear, tan...   \n",
       "...                                                 ...   \n",
       "2272  Crisply sweet, nut-toned. Almond brittle, pie ...   \n",
       "2273  Chocolaty, floral-framed. Cocoa nib, honeysuck...   \n",
       "2274  High-toned, enticingly sweet. Black cherry, na...   \n",
       "2275   Vibrantly sweet, subtly nuanced. Apricot, dar...   \n",
       "2276  Evaluated as espresso. Multi-layered, complex....   \n",
       "\n",
       "                                                 desc_2  \\\n",
       "0     An espresso blend comprised of coffees from Pa...   \n",
       "1     An espresso blend comprised of coffees from Af...   \n",
       "2     This coffee tied for the third-highest rating ...   \n",
       "3     This coffee tied for the third-highest rating ...   \n",
       "4     Southern Ethiopia coffees like this one are pr...   \n",
       "...                                                 ...   \n",
       "2272  Produced by Andres Fahsen of Finca Patzibar en...   \n",
       "2273  Produced at Beneficio La Esperanza from trees ...   \n",
       "2274   Produced by Josué Morales of Finca El Potrero...   \n",
       "2275  Produced by smallholding farmers of Asociación...   \n",
       "2276  Produced by Josué Morales at Finca Villa La Es...   \n",
       "\n",
       "                                                 desc_3  \\\n",
       "0     A radiant espresso blend that shines equally i...   \n",
       "1     A floral-driven straight shot, amplified with ...   \n",
       "2     A gently spice-toned, floral- driven wet-proce...   \n",
       "3     Lavender-like flowers and hints of zesty pink ...   \n",
       "4     A deeply and generously lush cup saved from se...   \n",
       "...                                                 ...   \n",
       "2272  A quietly confident, sweetly nut-toned Guatema...   \n",
       "2273  A deeply floral, richly chocolaty Guatemala cu...   \n",
       "2274  A bright, balanced, juicy Guatemala cup driven...   \n",
       "2275  Balanced, bright, invigoratingly crisp, with t...   \n",
       "2276  This single-farm Guatemala espresso displays t...   \n",
       "\n",
       "                   est_price_split  \n",
       "0     ['HKD', '$250/227', 'grams']  \n",
       "1     ['HKD', '$158/227', 'grams']  \n",
       "2          ['$16.00/12', 'ounces']  \n",
       "3          ['$19.00/16', 'ounces']  \n",
       "4          ['$16.50/12', 'ounces']  \n",
       "...                            ...  \n",
       "2272       ['$16.00/12', 'ounces']  \n",
       "2273       ['$10.00/12', 'ounces']  \n",
       "2274       ['$10.00/12', 'ounces']  \n",
       "2275       ['$16.00/12', 'ounces']  \n",
       "2276       ['$20.00/12', 'ounces']  \n",
       "\n",
       "[2277 rows x 21 columns]"
      ]
     },
     "execution_count": 268,
     "metadata": {},
     "output_type": "execute_result"
    }
   ],
   "source": [
    "df = pd.read_csv('backend\\data\\data_cleaning_coffee.csv')\n",
    "df"
   ]
  },
  {
   "cell_type": "code",
   "execution_count": 269,
   "metadata": {},
   "outputs": [
    {
     "name": "stdout",
     "output_type": "stream",
     "text": [
      "24 $7.50/12 capsules\n",
      "170 THB $320/250 grams\n",
      "202 $5.00/12 ounce can\n",
      "232 $12.00/25.4 ounce bottle (seasonal)\n",
      "233 $3.49/11 ounce can\n",
      "234 $3.99/8 ounce can\n",
      "235 $3.99/12 ounce can\n",
      "236 $4.00/12 ounce bottle\n",
      "237 $65.99/12 10.5 ounce bottles (shipping within California only)\n",
      "238 $4.00/10 ounce bottle\n",
      "239 $4.50/12 ounce bottle\n",
      "240 $36.00/12 9.5 ounce cans\n",
      "241 $84.00/24 12 ounces bottles\n",
      "262 $6.99/eight 3.3 gram packets\n",
      "270 £50/10 capsules\n",
      "271 £45/10 capsules\n",
      "275 $4.65/8.4 ounce can\n",
      "291 $6.99/eight 3.3 gram packets\n",
      "292 $17.98/thirty 1.6 gram single serve packets\n",
      "293 $16.00/five 5 gram single serve packets\n",
      "295 $16.00/five 5 gram single serve packets\n",
      "297 $16.00/five 5 gram single serve packets\n",
      "298 $19.00/six 5 gram packets\n",
      "299 $15.00/six 5 gram single serve packets\n",
      "300 $22.00/eight 5 gram tubes\n",
      "393 $10.99/8 single serve packets\n",
      "444 $26.00/five 5 gram single serve packets\n",
      "534 $17.99/3 pounds\n",
      "535 $18.99/2 pounds\n",
      "536 $37.99/6 pounds\n",
      "538 NTD $1200/225 grams\n",
      "539 NTD $600/225 grams\n",
      "545 $9.99/12 sticks\n",
      "552 HK $125.00/250 grams\n",
      "553 HK $125.00/250 grams\n",
      "577 9.9 Euros/225 grams\n",
      "587 $NT 700/227 grams\n",
      "612 £40.50/10 capsules\n",
      "634 NTD $300/200 grams\n",
      "658 See website for more information\n",
      "721 IDR $120000/200 grams\n",
      "722 IDR $120000/200 grams\n",
      "748 $35000 LAK/250 grams\n",
      "787 €29.95/1 kilo (35.3 ounces)\n",
      "807 HK $150/250 grams\n",
      "808 HK $150/250 grams\n",
      "813 $50.00/ 7 ounces\n",
      "918 £50.00/10 capsules\n",
      "921 $3.99/8 ounce can\n",
      "922 $4.00/can\n",
      "925 $20.00/Four 12 ounce bottles\n",
      "926 $4.00/12 ounce bottle; $20.00/6 pack\n",
      "927 $4.59/10.5 ounce bottle\n",
      "928 $13.99/Four 8.4 ounce cans\n",
      "930 $46.50/12 9.5 ounce cans\n",
      "931 $18.00/4 12 ounce bottles; 32 ounces/$12; 64 ounces/$20.00\n",
      "932 $3.00/sachet (plus one donated)\n",
      "1059 $19.99 CAD/12 ounces\n",
      "1066 HK $80/200 grams\n",
      "1118 US $20.00/12 ounces\n",
      "1126 £45/10 capsules\n",
      "1187 USD $206.00/8 ounces\n",
      "1188 USD $206.00/8 ounces\n",
      "1201 ¥ 2420/200 grams\n",
      "1202 ¥ 2420/200 grams\n",
      "1305 ¥ 1580/100 grams\n",
      "1306 ¥ 2640/50 grams\n",
      "1367 $14.99/seven single serve pouches\n",
      "1404 $11.00/375 ml. flask\n",
      "1405 $11.00/375 ml. flask\n",
      "1424 $30.00/150 gram tin\n",
      "1432 500 pesos/200 grams\n",
      "1478 $33.00/twelve 6 ounce cans\n",
      "1510 $5.50/12 ounce bottle\n",
      "1511 $2.00/200 ml bottle\n",
      "1512 $35.00/six 8 ounce cans\n",
      "1513 $4.49/280 ml can\n",
      "1514 $4.00/12 ounce bottle\n",
      "1515 $14.00/four 8 ounce cans\n",
      "1516 $4.25/12 ounce bottle\n",
      "1517 $25.00/six 12 ounce cans\n",
      "1522 £50/10 capsules\n",
      "1646 £25.00/8 18 gram pouches\n",
      "1771 £100/150 gram packet\n",
      "1813 NA (available in store only)\n",
      "1939 $17.99/ 12 ounces\n",
      "2064 RM 130/350 grams\n",
      "2065 RM 120/350 grams\n",
      "2066 RM 120/350 grams\n",
      "2069 £50/10 capsules\n",
      "2225 NT$840/225g\n",
      "2226 NT$600/200g\n",
      "2227 $NT$1000/200g\n",
      "2228 $NT$520/200g\n",
      "2229 NT$650/230g\n",
      "2250 $10.00 / 8 ounces\n",
      "2256 $30.00/ 12 ounces\n"
     ]
    }
   ],
   "source": [
    "for index, price in df['est_price'].iteritems():\n",
    "    if '340 grams' not in price:\n",
    "        print(index, price)\n"
   ]
  },
  {
   "cell_type": "code",
   "execution_count": 270,
   "metadata": {},
   "outputs": [
    {
     "name": "stderr",
     "output_type": "stream",
     "text": [
      "<ipython-input-270-c853fb3084ed>:12: SettingWithCopyWarning: \n",
      "A value is trying to be set on a copy of a slice from a DataFrame\n",
      "\n",
      "See the caveats in the documentation: https://pandas.pydata.org/pandas-docs/stable/user_guide/indexing.html#returning-a-view-versus-a-copy\n",
      "  df['est_price'][24] = new_string\n"
     ]
    }
   ],
   "source": [
    "#capsules\n",
    "original_string = df['est_price'][24]\n",
    "\n",
    "# Split the string by \"/\"\n",
    "parts = original_string.split(\"/\")\n",
    "\n",
    "# Extract the price part\n",
    "price_part = parts[0]\n",
    "\n",
    "# Create the new string with \"340 grams\"\n",
    "new_string = price_part + \"/340 grams\"\n",
    "df['est_price'][24] = new_string"
   ]
  },
  {
   "cell_type": "code",
   "execution_count": 271,
   "metadata": {},
   "outputs": [
    {
     "name": "stdout",
     "output_type": "stream",
     "text": [
      "270 £50/10 capsules\n",
      "271 £45/10 capsules\n",
      "612 £40.50/10 capsules\n",
      "918 £50.00/10 capsules\n",
      "1126 £45/10 capsules\n",
      "1522 £50/10 capsules\n",
      "2069 £50/10 capsules\n"
     ]
    }
   ],
   "source": [
    "capsules_index = []\n",
    "for index, price in df['est_price'].iteritems():\n",
    "    if 'capsules' in price:\n",
    "        print(index, price)\n",
    "        capsules_index.append(index)"
   ]
  },
  {
   "cell_type": "code",
   "execution_count": 272,
   "metadata": {},
   "outputs": [
    {
     "name": "stderr",
     "output_type": "stream",
     "text": [
      "<ipython-input-272-2cf28c2b5c27>:6: SettingWithCopyWarning: \n",
      "A value is trying to be set on a copy of a slice from a DataFrame\n",
      "\n",
      "See the caveats in the documentation: https://pandas.pydata.org/pandas-docs/stable/user_guide/indexing.html#returning-a-view-versus-a-copy\n",
      "  df['est_price'][capsules] = new_string\n"
     ]
    }
   ],
   "source": [
    "for capsules in capsules_index:\n",
    "    parts = df['est_price'][capsules].split(\"/\")\n",
    "    price_part = parts[0]\n",
    "    new_price = round((float(price_part[1:]) * 1.25), 2)\n",
    "    new_string = '$' + str(new_price) + '/340 grams'\n",
    "    df['est_price'][capsules] = new_string"
   ]
  },
  {
   "cell_type": "code",
   "execution_count": 273,
   "metadata": {},
   "outputs": [
    {
     "name": "stderr",
     "output_type": "stream",
     "text": [
      "<ipython-input-273-7368534ab16f>:9: SettingWithCopyWarning: \n",
      "A value is trying to be set on a copy of a slice from a DataFrame\n",
      "\n",
      "See the caveats in the documentation: https://pandas.pydata.org/pandas-docs/stable/user_guide/indexing.html#returning-a-view-versus-a-copy\n",
      "  df['est_price'][170] = tbh_string\n"
     ]
    }
   ],
   "source": [
    "#THB \n",
    "tbh_string = df['est_price'][170]\n",
    "tbh_parts = tbh_string.split(\"/\")\n",
    "\n",
    "# Extract the price part\n",
    "tbh_price_part = tbh_parts[0]\n",
    "tbh_new = round((float(tbh_price_part[5:]) * 0.01985),2)\n",
    "tbh_string = '$' + str(tbh_new) + '/340 grams'\n",
    "df['est_price'][170] = tbh_string\n",
    "\n"
   ]
  },
  {
   "cell_type": "code",
   "execution_count": 274,
   "metadata": {},
   "outputs": [
    {
     "name": "stdout",
     "output_type": "stream",
     "text": [
      "202 $5.00/12 ounce can\n",
      "232 $12.00/25.4 ounce bottle (seasonal)\n",
      "233 $3.49/11 ounce can\n",
      "234 $3.99/8 ounce can\n",
      "235 $3.99/12 ounce can\n",
      "236 $4.00/12 ounce bottle\n",
      "237 $65.99/12 10.5 ounce bottles (shipping within California only)\n",
      "238 $4.00/10 ounce bottle\n",
      "239 $4.50/12 ounce bottle\n",
      "240 $36.00/12 9.5 ounce cans\n",
      "241 $84.00/24 12 ounces bottles\n",
      "275 $4.65/8.4 ounce can\n",
      "787 €29.95/1 kilo (35.3 ounces)\n",
      "813 $50.00/ 7 ounces\n",
      "921 $3.99/8 ounce can\n",
      "925 $20.00/Four 12 ounce bottles\n",
      "926 $4.00/12 ounce bottle; $20.00/6 pack\n",
      "927 $4.59/10.5 ounce bottle\n",
      "928 $13.99/Four 8.4 ounce cans\n",
      "930 $46.50/12 9.5 ounce cans\n",
      "931 $18.00/4 12 ounce bottles; 32 ounces/$12; 64 ounces/$20.00\n",
      "1059 $19.99 CAD/12 ounces\n",
      "1118 US $20.00/12 ounces\n",
      "1187 USD $206.00/8 ounces\n",
      "1188 USD $206.00/8 ounces\n",
      "1478 $33.00/twelve 6 ounce cans\n",
      "1510 $5.50/12 ounce bottle\n",
      "1512 $35.00/six 8 ounce cans\n",
      "1514 $4.00/12 ounce bottle\n",
      "1515 $14.00/four 8 ounce cans\n",
      "1516 $4.25/12 ounce bottle\n",
      "1517 $25.00/six 12 ounce cans\n",
      "1939 $17.99/ 12 ounces\n",
      "2250 $10.00 / 8 ounces\n",
      "2256 $30.00/ 12 ounces\n"
     ]
    }
   ],
   "source": [
    "ounces_index = []\n",
    "usd_ounces_index = []\n",
    "for index, price in df['est_price'].iteritems():\n",
    "    if 'ounces' and 'ounce' in price:\n",
    "        print(index, price)\n",
    "        ounces_index.append(index)\n",
    "for index in ounces_index:\n",
    "    if '$' in df['est_price'][index]:\n",
    "        usd_ounces_index.append(index)\n",
    "        "
   ]
  },
  {
   "cell_type": "code",
   "execution_count": 275,
   "metadata": {},
   "outputs": [
    {
     "name": "stderr",
     "output_type": "stream",
     "text": [
      "<ipython-input-275-b3379c0196dd>:12: SettingWithCopyWarning: \n",
      "A value is trying to be set on a copy of a slice from a DataFrame\n",
      "\n",
      "See the caveats in the documentation: https://pandas.pydata.org/pandas-docs/stable/user_guide/indexing.html#returning-a-view-versus-a-copy\n",
      "  df['est_price'][usd] = calculated_string\n"
     ]
    }
   ],
   "source": [
    "import re\n",
    "for usd in usd_ounces_index:\n",
    "    parts = df['est_price'][usd].split(\"/\")\n",
    "    price_parts = parts[0]\n",
    "    num = price_parts.split(\"$\")[1]\n",
    "    first_num = num.split(\"CAD\")[0]\n",
    "    second_num_part = parts[1]\n",
    "    num2 = second_num_part.split(\"ounce\")[0]\n",
    "    second_num = re.findall(r'\\b\\d+\\b', num2)[0]\n",
    "    calculated = round((float(first_num) * float(second_num)*40 / 340),2)\n",
    "    calculated_string = '$' + str(calculated) + '/340 grams'\n",
    "    df['est_price'][usd] = calculated_string\n",
    "   \n"
   ]
  },
  {
   "cell_type": "code",
   "execution_count": 276,
   "metadata": {},
   "outputs": [
    {
     "name": "stdout",
     "output_type": "stream",
     "text": [
      "262 $6.99/eight 3.3 gram packets\n",
      "291 $6.99/eight 3.3 gram packets\n",
      "292 $17.98/thirty 1.6 gram single serve packets\n",
      "293 $16.00/five 5 gram single serve packets\n",
      "295 $16.00/five 5 gram single serve packets\n",
      "297 $16.00/five 5 gram single serve packets\n",
      "298 $19.00/six 5 gram packets\n",
      "299 $15.00/six 5 gram single serve packets\n",
      "300 $22.00/eight 5 gram tubes\n",
      "393 $10.99/8 single serve packets\n",
      "444 $26.00/five 5 gram single serve packets\n",
      "534 $17.99/3 pounds\n",
      "535 $18.99/2 pounds\n",
      "536 $37.99/6 pounds\n",
      "538 NTD $1200/225 grams\n",
      "539 NTD $600/225 grams\n",
      "545 $9.99/12 sticks\n",
      "552 HK $125.00/250 grams\n",
      "553 HK $125.00/250 grams\n",
      "577 9.9 Euros/225 grams\n",
      "587 $NT 700/227 grams\n",
      "634 NTD $300/200 grams\n",
      "658 See website for more information\n",
      "721 IDR $120000/200 grams\n",
      "722 IDR $120000/200 grams\n",
      "748 $35000 LAK/250 grams\n",
      "787 €29.95/1 kilo (35.3 ounces)\n",
      "807 HK $150/250 grams\n",
      "808 HK $150/250 grams\n",
      "922 $4.00/can\n",
      "932 $3.00/sachet (plus one donated)\n",
      "1066 HK $80/200 grams\n",
      "1201 ¥ 2420/200 grams\n",
      "1202 ¥ 2420/200 grams\n",
      "1305 ¥ 1580/100 grams\n",
      "1306 ¥ 2640/50 grams\n",
      "1367 $14.99/seven single serve pouches\n",
      "1404 $11.00/375 ml. flask\n",
      "1405 $11.00/375 ml. flask\n",
      "1424 $30.00/150 gram tin\n",
      "1432 500 pesos/200 grams\n",
      "1511 $2.00/200 ml bottle\n",
      "1513 $4.49/280 ml can\n",
      "1646 £25.00/8 18 gram pouches\n",
      "1771 £100/150 gram packet\n",
      "1813 NA (available in store only)\n",
      "2064 RM 130/350 grams\n",
      "2065 RM 120/350 grams\n",
      "2066 RM 120/350 grams\n",
      "2225 NT$840/225g\n",
      "2226 NT$600/200g\n",
      "2227 $NT$1000/200g\n",
      "2228 $NT$520/200g\n",
      "2229 NT$650/230g\n"
     ]
    }
   ],
   "source": [
    "not_changed = []\n",
    "for index, price in df['est_price'].iteritems():\n",
    "    if '340 grams' not in price:\n",
    "        print(index, price)\n",
    "        not_changed.append(index)\n",
    "        "
   ]
  },
  {
   "cell_type": "code",
   "execution_count": 277,
   "metadata": {},
   "outputs": [],
   "source": [
    "NTD_index = []\n",
    "for index, price in df['est_price'].iteritems():\n",
    "    if 'NTD' in price:\n",
    "        NTD_index.append(index)"
   ]
  },
  {
   "cell_type": "code",
   "execution_count": 278,
   "metadata": {},
   "outputs": [
    {
     "name": "stderr",
     "output_type": "stream",
     "text": [
      "<ipython-input-278-eb2b87f273b7>:8: SettingWithCopyWarning: \n",
      "A value is trying to be set on a copy of a slice from a DataFrame\n",
      "\n",
      "See the caveats in the documentation: https://pandas.pydata.org/pandas-docs/stable/user_guide/indexing.html#returning-a-view-versus-a-copy\n",
      "  df['est_price'][NTD] = new_string\n"
     ]
    }
   ],
   "source": [
    "for NTD in NTD_index:\n",
    "    parts = df['est_price'][NTD].split(\"/\")\n",
    "    price_part = parts[0]\n",
    "    price_part = price_part.split('$')[1]\n",
    "    new_price = round((float(price_part) * 0.031), 2)\n",
    "    \n",
    "    new_string = '$' + str(new_price) + '/340 grams'\n",
    "    df['est_price'][NTD] = new_string\n"
   ]
  },
  {
   "cell_type": "code",
   "execution_count": 279,
   "metadata": {},
   "outputs": [
    {
     "name": "stderr",
     "output_type": "stream",
     "text": [
      "<ipython-input-279-16ed6238f949>:11: SettingWithCopyWarning: \n",
      "A value is trying to be set on a copy of a slice from a DataFrame\n",
      "\n",
      "See the caveats in the documentation: https://pandas.pydata.org/pandas-docs/stable/user_guide/indexing.html#returning-a-view-versus-a-copy\n",
      "  df['est_price'][HK] = new_string\n"
     ]
    }
   ],
   "source": [
    "HK_index = []\n",
    "for index, price in df['est_price'].iteritems():\n",
    "    if 'HK' in price:\n",
    "        HK_index.append(index)\n",
    "for HK in HK_index:\n",
    "    parts = df['est_price'][HK].split(\"/\")\n",
    "    price_part = parts[0]\n",
    "    price_part = price_part.split('$')[1]\n",
    "    new_price = round((float(price_part) * 0.13), 2)\n",
    "    new_string = '$' + str(new_price) + '/340 grams'\n",
    "    df['est_price'][HK] = new_string"
   ]
  },
  {
   "cell_type": "code",
   "execution_count": 280,
   "metadata": {},
   "outputs": [
    {
     "name": "stderr",
     "output_type": "stream",
     "text": [
      "<ipython-input-280-17c8857e60c5>:15: SettingWithCopyWarning: \n",
      "A value is trying to be set on a copy of a slice from a DataFrame\n",
      "\n",
      "See the caveats in the documentation: https://pandas.pydata.org/pandas-docs/stable/user_guide/indexing.html#returning-a-view-versus-a-copy\n",
      "  df['est_price'][NT] = new_string\n"
     ]
    }
   ],
   "source": [
    "NT_index = []\n",
    "for index, price in df['est_price'].iteritems():\n",
    "    if 'NT' in price:\n",
    "        NT_index.append(index)\n",
    "for NT in NT_index:\n",
    "    parts = df['est_price'][NT].split(\"/\")\n",
    "    price_part = parts[0]\n",
    "    price_part = price_part.split('$')\n",
    "    integers = []\n",
    "    for sublist in price_part:\n",
    "        integers.extend([int(s) for s in sublist if re.match(r'^\\d+$', s)])\n",
    "    num = ''.join(map(str, integers))\n",
    "    new_price = round((float(num) * 0.031), 2)\n",
    "    new_string = '$' + str(new_price) + '/340 grams'\n",
    "    df['est_price'][NT] = new_string\n",
    "    \n",
    "   "
   ]
  },
  {
   "cell_type": "code",
   "execution_count": 281,
   "metadata": {},
   "outputs": [
    {
     "name": "stderr",
     "output_type": "stream",
     "text": [
      "<ipython-input-281-4a807e8527a0>:12: SettingWithCopyWarning: \n",
      "A value is trying to be set on a copy of a slice from a DataFrame\n",
      "\n",
      "See the caveats in the documentation: https://pandas.pydata.org/pandas-docs/stable/user_guide/indexing.html#returning-a-view-versus-a-copy\n",
      "  df['est_price'][IDR] = new_string\n"
     ]
    }
   ],
   "source": [
    "IDR_index = []\n",
    "for index, price in df['est_price'].iteritems():\n",
    "    if 'IDR' in price:\n",
    "        IDR_index.append(index)\n",
    "\n",
    "for IDR in IDR_index:\n",
    "    parts = df['est_price'][IDR].split(\"/\")\n",
    "    price_part = parts[0]\n",
    "    price_part = price_part.split('$')[1]\n",
    "    new_price = round((float(price_part) * 0.000092), 2)\n",
    "    new_string = '$' + str(new_price) + '/340 grams'\n",
    "    df['est_price'][IDR] = new_string\n",
    "  "
   ]
  },
  {
   "cell_type": "code",
   "execution_count": 282,
   "metadata": {},
   "outputs": [
    {
     "name": "stderr",
     "output_type": "stream",
     "text": [
      "<ipython-input-282-142fce52ae97>:11: SettingWithCopyWarning: \n",
      "A value is trying to be set on a copy of a slice from a DataFrame\n",
      "\n",
      "See the caveats in the documentation: https://pandas.pydata.org/pandas-docs/stable/user_guide/indexing.html#returning-a-view-versus-a-copy\n",
      "  df['est_price'][Euro] = new_string\n"
     ]
    }
   ],
   "source": [
    "Euro_index = []\n",
    "for index, price in df['est_price'].iteritems():\n",
    "    if 'Euro' in price:\n",
    "        Euro_index.append(index)\n",
    "for Euro in Euro_index:\n",
    "    parts = df['est_price'][Euro].split(\"/\")\n",
    "    price_part = parts[0]\n",
    "    price_part = price_part.split('Euros')[0]\n",
    "    new_price = round((float(price_part) * 1.20), 2)\n",
    "    new_string = '$' + str(new_price) + '/340 grams'\n",
    "    df['est_price'][Euro] = new_string\n",
    "\n",
    "    "
   ]
  },
  {
   "cell_type": "code",
   "execution_count": 283,
   "metadata": {},
   "outputs": [
    {
     "name": "stderr",
     "output_type": "stream",
     "text": [
      "<ipython-input-283-17a546f4aa1b>:13: SettingWithCopyWarning: \n",
      "A value is trying to be set on a copy of a slice from a DataFrame\n",
      "\n",
      "See the caveats in the documentation: https://pandas.pydata.org/pandas-docs/stable/user_guide/indexing.html#returning-a-view-versus-a-copy\n",
      "  df['est_price'][LAK] = new_string\n"
     ]
    }
   ],
   "source": [
    "LAK_index = []\n",
    "for index, price in df['est_price'].iteritems():\n",
    "    if 'LAK' in price:\n",
    "       \n",
    "        LAK_index.append(index)\n",
    "for LAK in LAK_index:\n",
    "    parts = df['est_price'][LAK].split(\"/\")\n",
    "    price_part = parts[0]\n",
    "    price_part = price_part.split('LAK')[0]\n",
    "    price_part = price_part.split('$')[1]\n",
    "    new_price = round((float(price_part) * 0.00047), 2)\n",
    "    new_string = '$' + str(new_price) + '/340 grams'\n",
    "    df['est_price'][LAK] = new_string\n",
    "    "
   ]
  },
  {
   "cell_type": "code",
   "execution_count": 284,
   "metadata": {},
   "outputs": [
    {
     "name": "stderr",
     "output_type": "stream",
     "text": [
      "<ipython-input-284-aeabf92efc9a>:11: SettingWithCopyWarning: \n",
      "A value is trying to be set on a copy of a slice from a DataFrame\n",
      "\n",
      "See the caveats in the documentation: https://pandas.pydata.org/pandas-docs/stable/user_guide/indexing.html#returning-a-view-versus-a-copy\n",
      "  df['est_price'][unit] = new_string\n"
     ]
    }
   ],
   "source": [
    "unit_index = []\n",
    "for index, price in df['est_price'].iteritems():\n",
    "    if '¥' in price:\n",
    "       unit_index.append(index)\n",
    "for unit in unit_index:\n",
    "    parts = df['est_price'][unit].split(\"/\")\n",
    "    price_part = parts[0]\n",
    "    price_part = price_part.split('¥')[1]\n",
    "    new_price = round((float(price_part) * 0.0065), 2)\n",
    "    new_string = '$' + str(new_price) + '/340 grams'\n",
    "    df['est_price'][unit] = new_string\n"
   ]
  },
  {
   "cell_type": "code",
   "execution_count": 285,
   "metadata": {},
   "outputs": [
    {
     "name": "stdout",
     "output_type": "stream",
     "text": [
      "2064 RM 130/350 grams\n",
      "2065 RM 120/350 grams\n",
      "2066 RM 120/350 grams\n"
     ]
    },
    {
     "name": "stderr",
     "output_type": "stream",
     "text": [
      "<ipython-input-285-e7530f99e5f0>:12: SettingWithCopyWarning: \n",
      "A value is trying to be set on a copy of a slice from a DataFrame\n",
      "\n",
      "See the caveats in the documentation: https://pandas.pydata.org/pandas-docs/stable/user_guide/indexing.html#returning-a-view-versus-a-copy\n",
      "  df['est_price'][RM] = new_string\n"
     ]
    }
   ],
   "source": [
    "RM_index = []\n",
    "for index, price in df['est_price'].iteritems():\n",
    "    if 'RM' in price:\n",
    "        print(index, price)\n",
    "        RM_index.append(index)\n",
    "for RM in RM_index:\n",
    "    parts = df['est_price'][RM].split(\"/\")\n",
    "    price_part = parts[0]\n",
    "    price_part = price_part.split(\"RM\")[1]\n",
    "    new_price = round((float(price_part) * 0.20929), 2)\n",
    "    new_string = '$' + str(new_price) + '/340 grams'\n",
    "    df['est_price'][RM] = new_string\n",
    "    "
   ]
  },
  {
   "cell_type": "code",
   "execution_count": 286,
   "metadata": {},
   "outputs": [
    {
     "name": "stderr",
     "output_type": "stream",
     "text": [
      "<ipython-input-286-bee4c28c97ad>:7: SettingWithCopyWarning: \n",
      "A value is trying to be set on a copy of a slice from a DataFrame\n",
      "\n",
      "See the caveats in the documentation: https://pandas.pydata.org/pandas-docs/stable/user_guide/indexing.html#returning-a-view-versus-a-copy\n",
      "  df['est_price'][1771] = new_string\n"
     ]
    }
   ],
   "source": [
    "   \n",
    "index_1771 = df['est_price'][1771]\n",
    "parts = index_1771.split(\"/\")\n",
    "price_part = parts[0]\n",
    "price_part = price_part.split(\"£\")[1]\n",
    "new_price = round((float(price_part) * 0.20929), 2)\n",
    "new_string = '$' + str(new_price) + '/340 grams'\n",
    "df['est_price'][1771] = new_string"
   ]
  },
  {
   "cell_type": "code",
   "execution_count": 287,
   "metadata": {},
   "outputs": [
    {
     "name": "stderr",
     "output_type": "stream",
     "text": [
      "<ipython-input-287-c5134bd1e7e6>:7: SettingWithCopyWarning: \n",
      "A value is trying to be set on a copy of a slice from a DataFrame\n",
      "\n",
      "See the caveats in the documentation: https://pandas.pydata.org/pandas-docs/stable/user_guide/indexing.html#returning-a-view-versus-a-copy\n",
      "  df['est_price'][1432] = new_string\n"
     ]
    }
   ],
   "source": [
    "index_1432 = df['est_price'][1432]\n",
    "parts = index_1432.split(\"/\")\n",
    "price_part = parts[0]\n",
    "price_part = price_part.split(\"pesos\")[0]\n",
    "new_price = round((float(price_part) * 0.058), 2)\n",
    "new_string = '$' + str(new_price) + '/340 grams'\n",
    "df['est_price'][1432] = new_string"
   ]
  },
  {
   "cell_type": "code",
   "execution_count": 288,
   "metadata": {},
   "outputs": [
    {
     "name": "stderr",
     "output_type": "stream",
     "text": [
      "<ipython-input-288-93123c9625a4>:15: SettingWithCopyWarning: \n",
      "A value is trying to be set on a copy of a slice from a DataFrame\n",
      "\n",
      "See the caveats in the documentation: https://pandas.pydata.org/pandas-docs/stable/user_guide/indexing.html#returning-a-view-versus-a-copy\n",
      "  df['est_price'][additional] = new_string\n"
     ]
    }
   ],
   "source": [
    "grams_index = []\n",
    "for index in not_changed:\n",
    "    if 'grams' and 'gram' in df['est_price'][index]:\n",
    "        grams_index.append(index)\n",
    "additional_grams = []\n",
    "for index_add in grams_index:\n",
    "    if '340 grams' not in df['est_price'][index_add]:\n",
    "        additional_grams.append(index_add)\n",
    "\n",
    "for additional in additional_grams:\n",
    "    parts = df['est_price'][additional].split(\"/\")\n",
    "    price_part = parts[0]\n",
    "    price_part = re.split(r'\\$|£', price_part)[1]\n",
    "    new_string = '$' + str(price_part) + '/340 grams'\n",
    "    df['est_price'][additional] = new_string"
   ]
  },
  {
   "cell_type": "code",
   "execution_count": 289,
   "metadata": {},
   "outputs": [
    {
     "name": "stdout",
     "output_type": "stream",
     "text": [
      "393 $10.99/8 single serve packets\n",
      "534 $17.99/3 pounds\n",
      "535 $18.99/2 pounds\n",
      "536 $37.99/6 pounds\n",
      "545 $9.99/12 sticks\n",
      "658 See website for more information\n",
      "787 €29.95/1 kilo (35.3 ounces)\n",
      "922 $4.00/can\n",
      "932 $3.00/sachet (plus one donated)\n",
      "1367 $14.99/seven single serve pouches\n",
      "1404 $11.00/375 ml. flask\n",
      "1405 $11.00/375 ml. flask\n",
      "1511 $2.00/200 ml bottle\n",
      "1513 $4.49/280 ml can\n",
      "1813 NA (available in store only)\n"
     ]
    }
   ],
   "source": [
    "not_changed = []\n",
    "for index, price in df['est_price'].iteritems():\n",
    "    if '340 grams' not in price:\n",
    "        print(index, price)\n",
    "        not_changed.append(index)\n",
    "        "
   ]
  },
  {
   "cell_type": "code",
   "execution_count": 290,
   "metadata": {},
   "outputs": [
    {
     "name": "stderr",
     "output_type": "stream",
     "text": [
      "<ipython-input-290-c5731c846a1e>:7: SettingWithCopyWarning: \n",
      "A value is trying to be set on a copy of a slice from a DataFrame\n",
      "\n",
      "See the caveats in the documentation: https://pandas.pydata.org/pandas-docs/stable/user_guide/indexing.html#returning-a-view-versus-a-copy\n",
      "  df['est_price'][edit] = new_string\n"
     ]
    }
   ],
   "source": [
    "edit_index = [393, 534, 535, 536, 1367, 1404, 1405]\n",
    "for edit in edit_index:\n",
    "    parts = df['est_price'][edit].split(\"/\")\n",
    "    price_part = parts[0]\n",
    "    price_part = price_part.split('$')[1]\n",
    "    new_string = '$' + str(price_part) + '/340 grams'\n",
    "    df['est_price'][edit] = new_string"
   ]
  },
  {
   "cell_type": "code",
   "execution_count": 291,
   "metadata": {},
   "outputs": [
    {
     "name": "stdout",
     "output_type": "stream",
     "text": [
      "545 $9.99/12 sticks\n",
      "658 See website for more information\n",
      "787 €29.95/1 kilo (35.3 ounces)\n",
      "922 $4.00/can\n",
      "932 $3.00/sachet (plus one donated)\n",
      "1511 $2.00/200 ml bottle\n",
      "1513 $4.49/280 ml can\n",
      "1813 NA (available in store only)\n"
     ]
    }
   ],
   "source": [
    "not_changed = []\n",
    "for index, price in df['est_price'].iteritems():\n",
    "    if '340 grams' not in price:\n",
    "        print(index, price)\n",
    "        not_changed.append(index)"
   ]
  },
  {
   "cell_type": "code",
   "execution_count": 292,
   "metadata": {},
   "outputs": [
    {
     "name": "stderr",
     "output_type": "stream",
     "text": [
      "<ipython-input-292-aba9b7c22735>:8: SettingWithCopyWarning: \n",
      "A value is trying to be set on a copy of a slice from a DataFrame\n",
      "\n",
      "See the caveats in the documentation: https://pandas.pydata.org/pandas-docs/stable/user_guide/indexing.html#returning-a-view-versus-a-copy\n",
      "  df['est_price'][edit2] = new_string\n"
     ]
    }
   ],
   "source": [
    "edit_index2 = [545, 922, 932, 1511, 1513]\n",
    "for edit2 in edit_index2:\n",
    "    parts = df['est_price'][edit2].split(\"/\")\n",
    "    price_part = parts[0]\n",
    "    price_part = price_part.split('$')[1]\n",
    "    new_price = round((float(price_part) * 4.20), 2)\n",
    "    new_string = '$' + str(new_price) + '/340 grams'\n",
    "    df['est_price'][edit2] = new_string\n",
    "   "
   ]
  },
  {
   "cell_type": "code",
   "execution_count": 293,
   "metadata": {},
   "outputs": [
    {
     "name": "stderr",
     "output_type": "stream",
     "text": [
      "<ipython-input-293-8126a265029a>:7: SettingWithCopyWarning: \n",
      "A value is trying to be set on a copy of a slice from a DataFrame\n",
      "\n",
      "See the caveats in the documentation: https://pandas.pydata.org/pandas-docs/stable/user_guide/indexing.html#returning-a-view-versus-a-copy\n",
      "  df['est_price'][787] = new_string\n"
     ]
    }
   ],
   "source": [
    "index_787 = df['est_price'][787]\n",
    "parts = index_787.split(\"/\")\n",
    "price_part = parts[0]\n",
    "price_part = price_part.split(\"€\")[1]\n",
    "new_price = round((float(price_part) * 1.07), 2)\n",
    "new_string = '$' + str(new_price) + '/340 grams'\n",
    "df['est_price'][787] = new_string\n"
   ]
  },
  {
   "cell_type": "code",
   "execution_count": 294,
   "metadata": {},
   "outputs": [
    {
     "name": "stderr",
     "output_type": "stream",
     "text": [
      "<ipython-input-294-8168ee0c8054>:3: SettingWithCopyWarning: \n",
      "A value is trying to be set on a copy of a slice from a DataFrame\n",
      "\n",
      "See the caveats in the documentation: https://pandas.pydata.org/pandas-docs/stable/user_guide/indexing.html#returning-a-view-versus-a-copy\n",
      "  df['est_price'][na] = 'NA'\n"
     ]
    }
   ],
   "source": [
    "na_index = [658, 1813]\n",
    "for na in na_index:\n",
    "    df['est_price'][na] = 'NA'"
   ]
  },
  {
   "cell_type": "code",
   "execution_count": 295,
   "metadata": {},
   "outputs": [
    {
     "name": "stdout",
     "output_type": "stream",
     "text": [
      "658 NA\n",
      "1813 NA\n"
     ]
    }
   ],
   "source": [
    "not_changed = []\n",
    "for index, price in df['est_price'].iteritems():\n",
    "    if '340 grams' not in price:\n",
    "        print(index, price)\n",
    "        not_changed.append(index)"
   ]
  },
  {
   "cell_type": "code",
   "execution_count": 296,
   "metadata": {},
   "outputs": [],
   "source": [
    "new_data = df.copy()\n",
    "new_data.to_csv('data_cleaning_coffee.csv', index = False)"
   ]
  }
 ],
 "metadata": {
  "kernelspec": {
   "display_name": "base",
   "language": "python",
   "name": "python3"
  },
  "language_info": {
   "codemirror_mode": {
    "name": "ipython",
    "version": 3
   },
   "file_extension": ".py",
   "mimetype": "text/x-python",
   "name": "python",
   "nbconvert_exporter": "python",
   "pygments_lexer": "ipython3",
   "version": "3.8.8"
  }
 },
 "nbformat": 4,
 "nbformat_minor": 2
}
